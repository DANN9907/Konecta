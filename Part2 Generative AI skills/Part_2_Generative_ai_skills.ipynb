{
  "cells": [
    {
      "cell_type": "code",
      "execution_count": 1,
      "metadata": {
        "id": "TpbTzF2taCP3"
      },
      "outputs": [],
      "source": [
        "%%capture\n",
        "!pip install langchain\n",
        "!pip install openai\n",
        "!pip install chroma\n",
        "!pip install chromadb\n",
        "!pip install langchain_community\n",
        "!pip install tiktoken\n",
        "!sudo apt install tesseract-ocr\n",
        "!pip install pytesseract\n",
        "!pip install PyPDF2 Pillow\n",
        "!pip install pdf2image\n",
        "!sudo apt install poppler-utils\n",
        "!sudo apt install tesseract-ocr-spa\n",
        "!tesseract -l spa"
      ]
    },
    {
      "cell_type": "code",
      "execution_count": 2,
      "metadata": {
        "id": "XzdXVi-oZ3zM"
      },
      "outputs": [],
      "source": [
        "from langchain_community.document_loaders import Docx2txtLoader #To load word files\n",
        "from langchain.document_loaders import PyPDFLoader #To load pdf files\n",
        "from langchain.vectorstores import Chroma #Vectorial DataBase\n",
        "from langchain.embeddings.openai import OpenAIEmbeddings #Word2Vec Model to tokenizer the text\n",
        "from langchain.text_splitter import RecursiveCharacterTextSplitter #To splitt the text\n",
        "from langchain.chat_models import ChatOpenAI #To load LLM from OPENAI\n",
        "from langchain.chains import RetrievalQA #To build chains to QA tasks\n",
        "from langchain import PromptTemplate #Class that allow the before to get in in production\n",
        "from langchain.chains.summarize import load_summarize_chain #To buil chains to summarize tasks\n",
        "import os\n",
        "from langchain.vectorstores import Chroma #The vectorial database\n",
        "from langchain_community.document_loaders import TextLoader\n",
        "from langchain_community.document_loaders import TextLoader\n",
        "from langchain.text_splitter import RecursiveCharacterTextSplitter #To splitt the text\n",
        "from langchain.embeddings.openai import OpenAIEmbeddings #Word2Vec Model to tokenizer the text\n",
        "from langchain.vectorstores import Chroma #The vectorial database\n",
        "from langchain.prompts import PromptTemplate\n",
        "from langchain.memory import ConversationBufferMemory\n",
        "from langchain_community.chat_models import ChatOpenAI\n",
        "from langchain.chains.question_answering import load_qa_chain\n",
        "import PyPDF2\n",
        "from PIL import Image\n",
        "import io\n",
        "from pdf2image import convert_from_path\n",
        "import cv2\n",
        "import pytesseract\n",
        "import os"
      ]
    },
    {
      "cell_type": "markdown",
      "metadata": {
        "id": "aZcrZRLEbm8x"
      },
      "source": [
        "## PDF to images\n"
      ]
    },
    {
      "cell_type": "code",
      "execution_count": 23,
      "metadata": {
        "id": "N3NUEzdZivey"
      },
      "outputs": [],
      "source": [
        "def pdf_to_images(path, output_folder=\"Imagenes\"):\n",
        "    \"\"\"\n",
        "    Converts a PDF file into images and saves them in the specified output folder.\n",
        "\n",
        "    Args:\n",
        "        path (str): The file path to the PDF.\n",
        "        output_folder (str): The folder where the images will be saved. Default is \"Imagenes\".\n",
        "\n",
        "    Returns:\n",
        "        None\n",
        "    \"\"\"\n",
        "    if not os.path.exists(output_folder):\n",
        "        os.makedirs(output_folder)\n",
        "\n",
        "    pages = convert_from_path(path)\n",
        "\n",
        "    for i, page in enumerate(pages):\n",
        "        image_name = os.path.join(output_folder, f\"Page_{i+1}.jpg\")\n",
        "        page.save(image_name, \"JPEG\")\n",
        "        print(f\"Saved: {image_name}\")"
      ]
    },
    {
      "cell_type": "code",
      "execution_count": 24,
      "metadata": {
        "colab": {
          "base_uri": "https://localhost:8080/"
        },
        "id": "ukAnJUZjc0YU",
        "outputId": "df310451-463e-400e-f14b-b3baa7ed0597"
      },
      "outputs": [
        {
          "name": "stdout",
          "output_type": "stream",
          "text": [
            "Saved: Imagenes/Page_1.jpg\n",
            "Saved: Imagenes/Page_2.jpg\n",
            "Saved: Imagenes/Page_3.jpg\n",
            "Saved: Imagenes/Page_4.jpg\n",
            "Saved: Imagenes/Page_5.jpg\n",
            "Saved: Imagenes/Page_6.jpg\n",
            "Saved: Imagenes/Page_7.jpg\n",
            "Saved: Imagenes/Page_8.jpg\n",
            "Saved: Imagenes/Page_9.jpg\n",
            "Saved: Imagenes/Page_10.jpg\n",
            "Saved: Imagenes/Page_11.jpg\n",
            "Saved: Imagenes/Page_12.jpg\n",
            "Saved: Imagenes/Page_13.jpg\n",
            "Saved: Imagenes/Page_14.jpg\n",
            "Saved: Imagenes/Page_15.jpg\n",
            "Saved: Imagenes/Page_16.jpg\n",
            "Saved: Imagenes/Page_17.jpg\n",
            "Saved: Imagenes/Page_18.jpg\n",
            "Saved: Imagenes/Page_19.jpg\n",
            "Saved: Imagenes/Page_20.jpg\n",
            "Saved: Imagenes/Page_21.jpg\n",
            "Saved: Imagenes/Page_22.jpg\n"
          ]
        }
      ],
      "source": [
        "pdf_path = \"/content/Bruno_child_offers.pdf\"\n",
        "pdf_to_images(pdf_path)"
      ]
    },
    {
      "cell_type": "markdown",
      "metadata": {
        "id": "QI_nHjDz8SgJ"
      },
      "source": [
        "## Images to text"
      ]
    },
    {
      "cell_type": "code",
      "execution_count": 25,
      "metadata": {
        "id": "_KRtiShtyB_N"
      },
      "outputs": [],
      "source": [
        "def escribir_a_txt(contenido, nombre_archivo):\n",
        "    \"\"\"\n",
        "    Writes the content of a string to a text file.\n",
        "\n",
        "    Args:\n",
        "        content (str): The string content to be written to the file.\n",
        "        filename (str): The name of the text file.\n",
        "\n",
        "    Returns:\n",
        "        None\n",
        "    \"\"\"\n",
        "    try:\n",
        "      # Open the file in write mode (\"w\" for overwrite)\n",
        "      with open(nombre_archivo, \"w\") as archivo:\n",
        "        # Write the contents of the string to the file\n",
        "        archivo.write(contenido)\n",
        "      print(f\"The content has been successfully written to the file {nombre_archivo}.\")\n",
        "    except FileNotFoundError:\n",
        "      print(f\"Error: Could not find file {nombre_archivo}.\")\n",
        "    except Exception as e:\n",
        "      print(f\"Unexpected error: {e}\")\n",
        "\n",
        "def txt_to_langchain():\n",
        "    \"\"\"\n",
        "    Loads and concatenates text files from a specified directory into a list.\n",
        "\n",
        "    Returns:\n",
        "        list: Concatenated content of all text files.\n",
        "\n",
        "    Notes:\n",
        "        Prints status messages during the process and handles errors by printing error messages.\n",
        "    \"\"\"\n",
        "\n",
        "\n",
        "    concatenated_files=[]\n",
        "    root_path=\"Txt_image/\"\n",
        "    txt_files=list(os.listdir(root_path))\n",
        "    number_pages=len(txt_files)\n",
        "    for i in range(1,number_pages+1):\n",
        "        try:\n",
        "            print(\"STARTING TO CODE PAGE : \",i)\n",
        "            loader = TextLoader(root_path+f\"Page_{i}.txt\", encoding=\"utf-8\")\n",
        "            data=loader.load()\n",
        "            concatenated_files.extend(data)\n",
        "            print(\"CODED PAGE : \",i)\n",
        "        except:\n",
        "            print(f\"error in Page_{i}.txt\")\n",
        "    print(\"CODED DATA : \",concatenated_files)\n",
        "    return concatenated_files"
      ]
    },
    {
      "cell_type": "code",
      "execution_count": 26,
      "metadata": {
        "colab": {
          "base_uri": "https://localhost:8080/"
        },
        "id": "fjQYdRRpyAGb",
        "outputId": "d62b19b4-0b68-4e51-9e23-606c3192f755"
      },
      "outputs": [
        {
          "name": "stdout",
          "output_type": "stream",
          "text": [
            "The content has been successfully written to the file Txt_image/Page_4.txt.\n",
            "The content has been successfully written to the file Txt_image/Page_8.txt.\n",
            "The content has been successfully written to the file Txt_image/Page_6.txt.\n",
            "The content has been successfully written to the file Txt_image/Page_14.txt.\n",
            "The content has been successfully written to the file Txt_image/Page_1.txt.\n",
            "The content has been successfully written to the file Txt_image/Page_16.txt.\n",
            "The content has been successfully written to the file Txt_image/Page_17.txt.\n",
            "The content has been successfully written to the file Txt_image/Page_5.txt.\n",
            "The content has been successfully written to the file Txt_image/Page_11.txt.\n",
            "The content has been successfully written to the file Txt_image/Page_22.txt.\n",
            "The content has been successfully written to the file Txt_image/Page_18.txt.\n",
            "The content has been successfully written to the file Txt_image/Page_9.txt.\n",
            "The content has been successfully written to the file Txt_image/Page_7.txt.\n",
            "The content has been successfully written to the file Txt_image/Page_3.txt.\n",
            "The content has been successfully written to the file Txt_image/Page_19.txt.\n",
            "The content has been successfully written to the file Txt_image/Page_20.txt.\n",
            "The content has been successfully written to the file Txt_image/Page_12.txt.\n",
            "The content has been successfully written to the file Txt_image/Page_15.txt.\n",
            "The content has been successfully written to the file Txt_image/Page_2.txt.\n",
            "The content has been successfully written to the file Txt_image/Page_13.txt.\n",
            "The content has been successfully written to the file Txt_image/Page_21.txt.\n",
            "The content has been successfully written to the file Txt_image/Page_10.txt.\n",
            "STARTING TO CODE PAGE :  1\n",
            "CODED PAGE :  1\n",
            "STARTING TO CODE PAGE :  2\n",
            "CODED PAGE :  2\n",
            "STARTING TO CODE PAGE :  3\n",
            "CODED PAGE :  3\n",
            "STARTING TO CODE PAGE :  4\n",
            "CODED PAGE :  4\n",
            "STARTING TO CODE PAGE :  5\n",
            "CODED PAGE :  5\n",
            "STARTING TO CODE PAGE :  6\n",
            "CODED PAGE :  6\n",
            "STARTING TO CODE PAGE :  7\n",
            "CODED PAGE :  7\n",
            "STARTING TO CODE PAGE :  8\n",
            "CODED PAGE :  8\n",
            "STARTING TO CODE PAGE :  9\n",
            "CODED PAGE :  9\n",
            "STARTING TO CODE PAGE :  10\n",
            "CODED PAGE :  10\n",
            "STARTING TO CODE PAGE :  11\n",
            "CODED PAGE :  11\n",
            "STARTING TO CODE PAGE :  12\n",
            "CODED PAGE :  12\n",
            "STARTING TO CODE PAGE :  13\n",
            "CODED PAGE :  13\n",
            "STARTING TO CODE PAGE :  14\n",
            "CODED PAGE :  14\n",
            "STARTING TO CODE PAGE :  15\n",
            "CODED PAGE :  15\n",
            "STARTING TO CODE PAGE :  16\n",
            "CODED PAGE :  16\n",
            "STARTING TO CODE PAGE :  17\n",
            "CODED PAGE :  17\n",
            "STARTING TO CODE PAGE :  18\n",
            "CODED PAGE :  18\n",
            "STARTING TO CODE PAGE :  19\n",
            "CODED PAGE :  19\n",
            "STARTING TO CODE PAGE :  20\n",
            "CODED PAGE :  20\n",
            "STARTING TO CODE PAGE :  21\n",
            "CODED PAGE :  21\n",
            "STARTING TO CODE PAGE :  22\n",
            "CODED PAGE :  22\n",
            "CODED DATA :  [Document(metadata={'source': 'Txt_image/Page_1.txt'}, page_content='  \\n \\n\\n     \\n\\nMA\\n\\na\\n\\nKitx 2 Frozen de Disney\\n\\nGel para el Cabello 65 g,\\n\\nprecio g $187,24 + Colonia 70 ml.\\nPrecio regular\\n\\n(168391) 2 pts\\n\\nKITx2\\n$21.900\\n\\nLlévalos también\\nen venta individual:\\n\\nCON BRILLO\\nA. Gel para el Cabello\\n\\nFrozen de Disney 65 g.\\nPrecio regular\\n\\n(133996) 1 pt\\n\\n$13.900\\n\\nPrecio g $213,85\\n\\nB. Colonia Frozen\\nde Disney 70 ml. |\\nPrecio regular\\n\\n  \\n\\n(133993) 1 pt\\n$12.900\\n\\n78 *Dermatológicamente probado. Basado en estudios técnicos realizados. ODisney\\n\\n \\n\\n \\n\\x0c'), Document(metadata={'source': 'Txt_image/Page_2.txt'}, page_content=' \\n\\x0c'), Document(metadata={'source': 'Txt_image/Page_3.txt'}, page_content='CUIDADOS ESPECIALES\\n\\npara sorprender y divertirte con tus niñas.\\n\\n \\n\\nPNOTaaN\\n\\n \\n\\nCepillo Corona Diamantes\\n\\nFrozen de Disney\\n\\nPlástico y nailon. Diseño con forma\\n\\nde corona con simulación de Shampoo 2 en 1 Frozen Barrita Humectante\\ndiamantes. Largo: 17.6 cm, ancho: de Disney 200 mi. Frozen de Disney 4.5 g.\\n7.5 cm, alto: 2.5 cm. Peso: 44 g. Precio regular Precio regular\\n\\nPrecio regular a ps p\\n\\n(133122) 2 pts (133995) 1 pt (133994) 1 pt\\n\\n$22.900 $16.900 $9.900\\nPrecio ml $84,50\\nME 80 *Dermatológicamente probado. Basado en estudios técnicos realizados.\\n\\x0c'), Document(metadata={'source': 'Txt_image/Page_4.txt'}, page_content='DERMATOLÓGICAMENTE\\nPROBADA\\n\\nSIN SENSACIÓN ;\\nGRASOSA SIN LÁGRIMAS\\n\\n   \\n\\nENCANTO;\\nDLOIA y 2 a MIÑUAS\\nON m6 1\\n\\n  \\n\\n  \\n \\n\\n \\n\\n \\n\\nSN\\n30% OFF\\n\\nColonia Encanto de Disney Shampoo 2en 1 Crema para Peinar\\n150 ml. Encanto de Disney Encanto de Disney 150 g.\\nPrecio regular $25.909 200 ml. Precio regular $27.909 Precio regular -\\n(133669) 2 pts (133670) 1 pt (133671) 1 pt\\n$18.900 $16.900 $16.900\\n\\nPrecio mi $84,50 Precio g $112,67\\n\\n*Dermatológicamente probado. Basado en estudios técnicos realizados. 81\\n\\x0c'), Document(metadata={'source': 'Txt_image/Page_5.txt'}, page_content='SU RUTINA DIARIA\\n\\nMAS ESPECIAL\\n\\nA EU\\n\\nY\\n\\n \\n     \\n \\n\\n“Dermatológicamente probado. Basado.en estudios técnicos realizados ODisney\\n\\nColonia Minnie Mouse\\nde Disney 150 rl.\\nPrecio regular\\n(139190) 2 pts\\n\\n$18.900\\n\\x0c'), Document(metadata={'source': 'Txt_image/Page_6.txt'}, page_content='a HASTA EL\\n\\nDESCUENTO\\n\\n \\n\\n(ame AN\\n\\na\\n\\n1D\\n3\\n»;\\noNÑ\\n\\n*Dermatológicamente probado. Basado en estudios técnicos realizados ODisney\\n\\n \\n\\nShampoo Minnie Mouse Spray Desenredante\\n\\nde Disney 200 ml. Minnie Mouse de Disney\\nPrecio regular 150 ml. Precio regular\\n(139499) 1 pt (139500) 1 pt\\n\\nPrecio ml $84,50 Precio ml $112,67\\n\\n83\\n\\x0c'), Document(metadata={'source': 'Txt_image/Page_7.txt'}, page_content='   \\n  \\n\\nSIN LÁGRIMAS\\n\\n    \\n\\nlos técnicos realizados. ODisney\\n\\n \\n \\n  \\n  \\n  \\n\\nCrema para Peinar\\n\\nMérida de Disney Princesa Shampoo Disney Spray Desenredante Moana\\n\\n150 g. Precio regular Princesa 750 ml. de Disney Princesa 150 ml.\\n- Precio regular $32.900 Precio regular Ls\\n\\n(139193) 1 pt (139498) 2 pts (139497) 1 pt\\n\\nPrecio g $112,67 Precio ml $35,87 Precio ml $112,67\\n\\nA 5\\n\\x0c'), Document(metadata={'source': 'Txt_image/Page_8.txt'}, page_content='AROMAS ESPECIALES\\n\\npara los cuidados de las más pequeñas. 1x $19.900\\nPRES\\n\\nIGUALES O DIFERENTES\\n\\n        \\n\\n \\n\\nColonias Disney\\nPrincesa 150 mi,\\nPrecio regular\\n$25.900 /2 pts\\nLIBRE DE DERMATOLÓGICAMENTE\\n\\nPARABENOS PROBADAS\\n\\n(EE ¡A (139188)\\nETT NG]\\nNES (139191)\\n\\nEM] :\\nAVON\\n\\nfatológicamente probado. Basado en estudios técnicos realizados. 85\\n\\x0c'), Document(metadata={'source': 'Txt_image/Page_9.txt'}, page_content=' \\n\\nano\\n\\nCon etiqueta impresa y chupa que se adhiere\\nen superficies planas como un vidrio o espejo.\\n\\n \\n\\ny\\nK5]\\nE\\n\\nú\\n\\nE\\nES\\n\\npd\\n\\n \\n\\nTODAS LAS EDADES\\nPortacepillos Barbie —_———_————o\\nPlástico y 80 % polipropileno. Producto Setx 4 Vasos Barbie\\ncerrado: largo: 4.7 cm, ancho: 4.5 cm, alto: 100 % polipropileno. Diámetro\\n2 cm. Producto abierto: largo: 9.5 em, ancho: mayor: 7 cm. Diámetro menor:\\n4.5 cm, alto: 1 cm. Diámetro chupa: 3 cm. 5.5 cm. Alto: 10.5 cm.\\nPrecio regular $26.909 Precio regular $26.900\\n(156894) 2 pts (155756) 2 pts\\n\\n$18.900 $22.900\\n\\nMIN 86 Respetar el rango de edad asignado para el uso de cada producto. Usar bajo la supervisión de un adulto.\\n\\n \\n\\x0c'), Document(metadata={'source': 'Txt_image/Page_10.txt'}, page_content='CUÍDALA CADA DÍA buses\\n\\ncon productos creados y diseñados para ella. %\\n\\nDESCUENTO\\n\\n \\n\\x0c'), Document(metadata={'source': 'Txt_image/Page_11.txt'}, page_content='02024 Mattel *Dermatológicamente probado. Basado en estudios técnicos realizados.\\n\\nA se\\n\\n   \\n\\n   \\n\\n \\n\\nLIBRE DE\\nPARABENOS\\n\\n1501:\\n\\nLlévalos también en venta individual:\\n\\nColonia Barbie Spray Desenredante Barbie\\n150 ml. 150 mi.\\n\\nPrecio regular $25.900 Precio regular $27.909\\n(133672) 1 pt (133673) 1 pt\\n\\n$15.900 $14.900\\n\\nPrecio mi $99,33\\n\\x0c'), Document(metadata={'source': 'Txt_image/Page_12.txt'}, page_content='US\\n\\n \\n\\nKITx2\\n$26.900\\n\\n02024 Mattel “Dermatológicamente probado, Basado en estudios técnicos realizados.\\n\\nKit x2 Barbie\\n\\nColonia 150 ml + Spray Desenredante\\n150 mil, precio mi $93,00.\\n\\nPrecio regular\\n\\n(168390) 2 pts\\n\\n89\\n\\x0c'), Document(metadata={'source': 'Txt_image/Page_13.txt'}, page_content='DIVERSIÓN DIARIA\\n\\nLlena su mundo de cuidados especiales\\ncon diseños de su personaje favorito.\\n\\n \\n\\nO 2024 MARVEL\\n\\n      \\n\\nSIN LÁGRIMAS\\n\\nShampoo para Cabello y Cuerpo Colonia Spider-Man\\nSpider-Man de Marvel de Marvel\\n\\n750 mi. 150 ml.\\n\\nPrecio regular $32.909 Precio regular $25.900\\n(130607) 2 pts (130608) 1 pt\\n\\n$26.900 $15.900\\n\\nPrecio ml $35,87\\n\\n90 *Dermatológicamente probado. Basado en estudios técnicos realizados.\\n\\x0c'), Document(metadata={'source': 'Txt_image/Page_14.txt'}, page_content='HASTA EL\\n\\nDESCUENTO\\n\\n \\n\\n \\n\\nGel para el Cabello\\nSpider-Man de Marvel\\n100 g.\\n\\nPrecio regular $24.990\\n\\n(130609) 1 pt\\n\\n$13.900\\n\\nPrecio g $139,00\\n\\n*Dermatológicamente probado. Basado en estudios técnicos realizados. O 2024 MARVEL\\n\\n \\n\\x0c'), Document(metadata={'source': 'Txt_image/Page_15.txt'}, page_content='¡231 [Ko]\\nY CUIDADO\\n\\n¡CREO IES\\n(ER ir\\n\\n \\n\\nO AÑOS\\n\\nGafas de Sol para Niños\\n75% policarbonato, 25 %\\nacetato. Largo: 13.5 cm, ancho:\\n12.8 cm, alto: 0.4 cm.\\n\\nPrecio regular $31.900\\n\\n(151633) 2 pts\\n\\n$24.900\\n\\nRespetar el rango de edad asignado\\npara el uso de cada producto.\\n[ 192 Usar bajo ta supervisión de un adulto.\\n\\n   \\n\\x0c'), Document(metadata={'source': 'Txt_image/Page_16.txt'}, page_content=' \\n\\n \\n\\nCUIDADOS PARA ELLOS\\n\\na,\\n\\nSIN LÁGRIMAS\\n\\n102024 MARVEL\\n\\n \\n\\nAS\\n\\nColonia Avengers de Marvel Shampoo 2 en 1 Avengers Gel para el Cabello\\n150 ml. de Marvel 200 ml. Avengers de Marvel 100 g.\\nPrecio regular $25.909 Precio regular $279009 Precio regular $24.999\\n(130575) 2 pts (130576) 1 pt (130577) 1 pt\\n\\nPrecio ml $84,50 Precio g $159,00\\n\\n*Dermatológicamente probado. Basado en estudios técnicos realizados. 93\\n\\x0c'), Document(metadata={'source': 'Txt_image/Page_17.txt'}, page_content='94\\n\\nSIN LÁGRIMAS\\n\\nTN E\\ne ] O\\n\\n \\n\\nLlévalos también en venta individual:\\n\\nShampoo 2 en 1 Avon Universo 200 mil. Colonia para Niños Avon Universo 150 ml.\\nPrecio regular $24.900 Precio regular $19.990\\n(130596) 1 pt (130595) 1 pt\\n\\nPrecio ml $64,50\\n\\n$12.900 cu\\n\\n*Dermatológicamente probado. Basado en estudios técnicos realizados.\\n\\x0c'), Document(metadata={'source': 'Txt_image/Page_18.txt'}, page_content='HASTA EL\\n\\n0%\\n\\nDE\\nDESCUENTO\\n\\n \\n\\nKITx2\\n$20.900\\n\\nKit x2 Avon Universo\\n\\nShampoo 2 en 1 200 mil, precio ml\\n$58,07 + Colonia para Niños 150 ml.\\nPrecio regular $44.800\\n\\n(168392) 2 pts\\n\\n95\\n\\x0c'), Document(metadata={'source': 'Txt_image/Page_19.txt'}, page_content='¡AL RESCATE!\\n\\ny cuidado de los animales\\ncon sus productos favoritos.\\n\\n \\n\\x0c'), Document(metadata={'source': 'Txt_image/Page_20.txt'}, page_content='ECTS E\\n\\nEDS\\n\\nSIN LÁGRIMAS a\\n\\n \\n\\x0c'), Document(metadata={'source': 'Txt_image/Page_21.txt'}, page_content='ye ¡CUIDEMOS\\nNS LOS ANIMALES!\\n\\nro tas\\n\\nuidados diar\\n\\n \\n\\x0c'), Document(metadata={'source': 'Txt_image/Page_22.txt'}, page_content='y\\nLA AN\\n\\n. Y\\n\\nENT] A?\\n\\n7\\nAR\\nTE\\n\\nR co:\\n\\n1 |\\n\\n! A!\\n\\n7]\\n\\n \\n\\x0c')]\n"
          ]
        }
      ],
      "source": [
        "# Image upload\n",
        "lista_imagenes =  os.listdir('Imagenes')\n",
        "\n",
        "for imgPath in lista_imagenes:\n",
        "  img = cv2.imread(\"/content/Imagenes/\"+imgPath)\n",
        "  # COnvertimage to gray scale\n",
        "  gray = cv2.cvtColor(img, cv2.COLOR_BGR2GRAY)\n",
        "  # Apply threshold to convert to binary image\n",
        "  threshold_img = cv2.threshold(gray, 0, 255, cv2.THRESH_BINARY + cv2.THRESH_OTSU)[1]\n",
        "  # Pass the image through pytesseract\n",
        "  text = pytesseract.image_to_string(threshold_img,lang='spa')\n",
        "  # Print the extracted text\n",
        "  escribir_a_txt(text,'Txt_image/'+imgPath.split('.')[0]+'.txt')\n",
        "\n",
        "########## READ TXT AND PASS TO LANGCHAIN ​​ITEMS\n",
        "\n",
        "codificate_pages = txt_to_langchain()"
      ]
    },
    {
      "cell_type": "markdown",
      "metadata": {
        "id": "C5KZi9UKyGkb"
      },
      "source": [
        "## TRANSFER TO A VECTORIZED DATABASE"
      ]
    },
    {
      "cell_type": "code",
      "execution_count": 27,
      "metadata": {
        "id": "eJotyFcZ_0mL"
      },
      "outputs": [],
      "source": [
        "def get_vdb(concatenated_files):\n",
        "    \"\"\"\n",
        "    Converts concatenated text files into a vectorized database.\n",
        "\n",
        "    Args:\n",
        "        concatenated_files (list): List of concatenated text files.\n",
        "\n",
        "    Returns:\n",
        "        Chroma: A vector store created from the documents.\n",
        "\n",
        "    Notes:\n",
        "        - Splits text into fragments of 1500 tokens with 200 tokens overlap.\n",
        "        - Uses OpenAI's text-embedding-ada-002 model for embeddings.\n",
        "        - Persists the vector store in a specified directory.\n",
        "    \"\"\"\n",
        "    #SPLITTING THE TEXTS:\n",
        "    print(\"STARTING TO TRANSFER TO A VECTORIZED DATABASE\")\n",
        "    text_splitter = RecursiveCharacterTextSplitter(\n",
        "        chunk_size=1500, #Fragments of text of 1500 tokens\n",
        "        chunk_overlap=200, #For evey fragment that take the 200 last tokens of the last fragment\n",
        "        length_function=len\n",
        "        )\n",
        "    documents = text_splitter.split_documents(concatenated_files) #List with the metadata and the content splitt by fragments of 1500 tokens\n",
        "\n",
        "    print(\"GETTING VECTORIZED DOCUMENT LIST: \",documents)\n",
        "    #CARRY THE CONTENT OF THE DOCUMENTS TO A VECTORIAL DATABASE:\n",
        "    #------------------------------------------------------------\n",
        "    #------------------------------------------------------------\n",
        "    embeddings = OpenAIEmbeddings(model=\"text-embedding-ada-002\") #word2vec model of openAI\n",
        "    print(\"WE GET THE EMBEDDING MODEL\")\n",
        "    NOMBRE_INDICE_CHROMA = f\"vdb_{'Base_ejemplo3'}\" #Name of my vectorial database (Put the name that you want)\n",
        "\n",
        "    print(\"VECTORIZING\")\n",
        "    #Creating our vectorial database or vector store\n",
        "    vectorstore_chroma = Chroma.from_documents(\n",
        "        documents=documents, #Create the database with the list of the created documents (Every instance will be the embedding of every document)\n",
        "        embedding=embeddings, #, #Word2vec model to create our embeddings, always use the same.\n",
        "        persist_directory=NOMBRE_INDICE_CHROMA #Load my database in the indicated folder (If I close the section, I will keep storaged my vectorial databas in the folder called \"NOMBRE_INDICE_CHROMA\" )\n",
        "    )\n",
        "    print(\"VECTORIZED\")\n",
        "    #loaded_\n",
        "    #loaded_database = Chroma(persist_directory=f\"AzureStorage/CerebroAuditoria/temporal_databases/vdb_{cont}\",embedding_function=embeddings)\n",
        "\n",
        "    return vectorstore_chroma"
      ]
    },
    {
      "cell_type": "code",
      "execution_count": 28,
      "metadata": {
        "colab": {
          "base_uri": "https://localhost:8080/"
        },
        "id": "xB42HoA-_XzQ",
        "outputId": "57696490-78e2-40ed-cc7f-c9d16ade25da"
      },
      "outputs": [
        {
          "name": "stdout",
          "output_type": "stream",
          "text": [
            "STARTING TO TRANSFER TO A VECTORIZED DATABASE\n",
            "GETTING VECTORIZED DOCUMENT LIST:  [Document(metadata={'source': 'Txt_image/Page_1.txt'}, page_content='MA\\n\\na\\n\\nKitx 2 Frozen de Disney\\n\\nGel para el Cabello 65 g,\\n\\nprecio g $187,24 + Colonia 70 ml.\\nPrecio regular\\n\\n(168391) 2 pts\\n\\nKITx2\\n$21.900\\n\\nLlévalos también\\nen venta individual:\\n\\nCON BRILLO\\nA. Gel para el Cabello\\n\\nFrozen de Disney 65 g.\\nPrecio regular\\n\\n(133996) 1 pt\\n\\n$13.900\\n\\nPrecio g $213,85\\n\\nB. Colonia Frozen\\nde Disney 70 ml. |\\nPrecio regular\\n\\n  \\n\\n(133993) 1 pt\\n$12.900\\n\\n78 *Dermatológicamente probado. Basado en estudios técnicos realizados. ODisney'), Document(metadata={'source': 'Txt_image/Page_3.txt'}, page_content='CUIDADOS ESPECIALES\\n\\npara sorprender y divertirte con tus niñas.\\n\\n \\n\\nPNOTaaN\\n\\n \\n\\nCepillo Corona Diamantes\\n\\nFrozen de Disney\\n\\nPlástico y nailon. Diseño con forma\\n\\nde corona con simulación de Shampoo 2 en 1 Frozen Barrita Humectante\\ndiamantes. Largo: 17.6 cm, ancho: de Disney 200 mi. Frozen de Disney 4.5 g.\\n7.5 cm, alto: 2.5 cm. Peso: 44 g. Precio regular Precio regular\\n\\nPrecio regular a ps p\\n\\n(133122) 2 pts (133995) 1 pt (133994) 1 pt\\n\\n$22.900 $16.900 $9.900\\nPrecio ml $84,50\\nME 80 *Dermatológicamente probado. Basado en estudios técnicos realizados.'), Document(metadata={'source': 'Txt_image/Page_4.txt'}, page_content='DERMATOLÓGICAMENTE\\nPROBADA\\n\\nSIN SENSACIÓN ;\\nGRASOSA SIN LÁGRIMAS\\n\\n   \\n\\nENCANTO;\\nDLOIA y 2 a MIÑUAS\\nON m6 1\\n\\n  \\n\\n  \\n \\n\\n \\n\\n \\n\\nSN\\n30% OFF\\n\\nColonia Encanto de Disney Shampoo 2en 1 Crema para Peinar\\n150 ml. Encanto de Disney Encanto de Disney 150 g.\\nPrecio regular $25.909 200 ml. Precio regular $27.909 Precio regular -\\n(133669) 2 pts (133670) 1 pt (133671) 1 pt\\n$18.900 $16.900 $16.900\\n\\nPrecio mi $84,50 Precio g $112,67\\n\\n*Dermatológicamente probado. Basado en estudios técnicos realizados. 81'), Document(metadata={'source': 'Txt_image/Page_5.txt'}, page_content='SU RUTINA DIARIA\\n\\nMAS ESPECIAL\\n\\nA EU\\n\\nY\\n\\n \\n     \\n \\n\\n“Dermatológicamente probado. Basado.en estudios técnicos realizados ODisney\\n\\nColonia Minnie Mouse\\nde Disney 150 rl.\\nPrecio regular\\n(139190) 2 pts\\n\\n$18.900'), Document(metadata={'source': 'Txt_image/Page_6.txt'}, page_content='a HASTA EL\\n\\nDESCUENTO\\n\\n \\n\\n(ame AN\\n\\na\\n\\n1D\\n3\\n»;\\noNÑ\\n\\n*Dermatológicamente probado. Basado en estudios técnicos realizados ODisney\\n\\n \\n\\nShampoo Minnie Mouse Spray Desenredante\\n\\nde Disney 200 ml. Minnie Mouse de Disney\\nPrecio regular 150 ml. Precio regular\\n(139499) 1 pt (139500) 1 pt\\n\\nPrecio ml $84,50 Precio ml $112,67\\n\\n83'), Document(metadata={'source': 'Txt_image/Page_7.txt'}, page_content='SIN LÁGRIMAS\\n\\n    \\n\\nlos técnicos realizados. ODisney\\n\\n \\n \\n  \\n  \\n  \\n\\nCrema para Peinar\\n\\nMérida de Disney Princesa Shampoo Disney Spray Desenredante Moana\\n\\n150 g. Precio regular Princesa 750 ml. de Disney Princesa 150 ml.\\n- Precio regular $32.900 Precio regular Ls\\n\\n(139193) 1 pt (139498) 2 pts (139497) 1 pt\\n\\nPrecio g $112,67 Precio ml $35,87 Precio ml $112,67\\n\\nA 5'), Document(metadata={'source': 'Txt_image/Page_8.txt'}, page_content='AROMAS ESPECIALES\\n\\npara los cuidados de las más pequeñas. 1x $19.900\\nPRES\\n\\nIGUALES O DIFERENTES\\n\\n        \\n\\n \\n\\nColonias Disney\\nPrincesa 150 mi,\\nPrecio regular\\n$25.900 /2 pts\\nLIBRE DE DERMATOLÓGICAMENTE\\n\\nPARABENOS PROBADAS\\n\\n(EE ¡A (139188)\\nETT NG]\\nNES (139191)\\n\\nEM] :\\nAVON\\n\\nfatológicamente probado. Basado en estudios técnicos realizados. 85'), Document(metadata={'source': 'Txt_image/Page_9.txt'}, page_content='ano\\n\\nCon etiqueta impresa y chupa que se adhiere\\nen superficies planas como un vidrio o espejo.\\n\\n \\n\\ny\\nK5]\\nE\\n\\nú\\n\\nE\\nES\\n\\npd\\n\\n \\n\\nTODAS LAS EDADES\\nPortacepillos Barbie —_———_————o\\nPlástico y 80 % polipropileno. Producto Setx 4 Vasos Barbie\\ncerrado: largo: 4.7 cm, ancho: 4.5 cm, alto: 100 % polipropileno. Diámetro\\n2 cm. Producto abierto: largo: 9.5 em, ancho: mayor: 7 cm. Diámetro menor:\\n4.5 cm, alto: 1 cm. Diámetro chupa: 3 cm. 5.5 cm. Alto: 10.5 cm.\\nPrecio regular $26.909 Precio regular $26.900\\n(156894) 2 pts (155756) 2 pts\\n\\n$18.900 $22.900\\n\\nMIN 86 Respetar el rango de edad asignado para el uso de cada producto. Usar bajo la supervisión de un adulto.'), Document(metadata={'source': 'Txt_image/Page_10.txt'}, page_content='CUÍDALA CADA DÍA buses\\n\\ncon productos creados y diseñados para ella. %\\n\\nDESCUENTO'), Document(metadata={'source': 'Txt_image/Page_11.txt'}, page_content='02024 Mattel *Dermatológicamente probado. Basado en estudios técnicos realizados.\\n\\nA se\\n\\n   \\n\\n   \\n\\n \\n\\nLIBRE DE\\nPARABENOS\\n\\n1501:\\n\\nLlévalos también en venta individual:\\n\\nColonia Barbie Spray Desenredante Barbie\\n150 ml. 150 mi.\\n\\nPrecio regular $25.900 Precio regular $27.909\\n(133672) 1 pt (133673) 1 pt\\n\\n$15.900 $14.900\\n\\nPrecio mi $99,33'), Document(metadata={'source': 'Txt_image/Page_12.txt'}, page_content='US\\n\\n \\n\\nKITx2\\n$26.900\\n\\n02024 Mattel “Dermatológicamente probado, Basado en estudios técnicos realizados.\\n\\nKit x2 Barbie\\n\\nColonia 150 ml + Spray Desenredante\\n150 mil, precio mi $93,00.\\n\\nPrecio regular\\n\\n(168390) 2 pts\\n\\n89'), Document(metadata={'source': 'Txt_image/Page_13.txt'}, page_content='DIVERSIÓN DIARIA\\n\\nLlena su mundo de cuidados especiales\\ncon diseños de su personaje favorito.\\n\\n \\n\\nO 2024 MARVEL\\n\\n      \\n\\nSIN LÁGRIMAS\\n\\nShampoo para Cabello y Cuerpo Colonia Spider-Man\\nSpider-Man de Marvel de Marvel\\n\\n750 mi. 150 ml.\\n\\nPrecio regular $32.909 Precio regular $25.900\\n(130607) 2 pts (130608) 1 pt\\n\\n$26.900 $15.900\\n\\nPrecio ml $35,87\\n\\n90 *Dermatológicamente probado. Basado en estudios técnicos realizados.'), Document(metadata={'source': 'Txt_image/Page_14.txt'}, page_content='HASTA EL\\n\\nDESCUENTO\\n\\n \\n\\n \\n\\nGel para el Cabello\\nSpider-Man de Marvel\\n100 g.\\n\\nPrecio regular $24.990\\n\\n(130609) 1 pt\\n\\n$13.900\\n\\nPrecio g $139,00\\n\\n*Dermatológicamente probado. Basado en estudios técnicos realizados. O 2024 MARVEL'), Document(metadata={'source': 'Txt_image/Page_15.txt'}, page_content='¡231 [Ko]\\nY CUIDADO\\n\\n¡CREO IES\\n(ER ir\\n\\n \\n\\nO AÑOS\\n\\nGafas de Sol para Niños\\n75% policarbonato, 25 %\\nacetato. Largo: 13.5 cm, ancho:\\n12.8 cm, alto: 0.4 cm.\\n\\nPrecio regular $31.900\\n\\n(151633) 2 pts\\n\\n$24.900\\n\\nRespetar el rango de edad asignado\\npara el uso de cada producto.\\n[ 192 Usar bajo ta supervisión de un adulto.'), Document(metadata={'source': 'Txt_image/Page_16.txt'}, page_content='CUIDADOS PARA ELLOS\\n\\na,\\n\\nSIN LÁGRIMAS\\n\\n102024 MARVEL\\n\\n \\n\\nAS\\n\\nColonia Avengers de Marvel Shampoo 2 en 1 Avengers Gel para el Cabello\\n150 ml. de Marvel 200 ml. Avengers de Marvel 100 g.\\nPrecio regular $25.909 Precio regular $279009 Precio regular $24.999\\n(130575) 2 pts (130576) 1 pt (130577) 1 pt\\n\\nPrecio ml $84,50 Precio g $159,00\\n\\n*Dermatológicamente probado. Basado en estudios técnicos realizados. 93'), Document(metadata={'source': 'Txt_image/Page_17.txt'}, page_content='94\\n\\nSIN LÁGRIMAS\\n\\nTN E\\ne ] O\\n\\n \\n\\nLlévalos también en venta individual:\\n\\nShampoo 2 en 1 Avon Universo 200 mil. Colonia para Niños Avon Universo 150 ml.\\nPrecio regular $24.900 Precio regular $19.990\\n(130596) 1 pt (130595) 1 pt\\n\\nPrecio ml $64,50\\n\\n$12.900 cu\\n\\n*Dermatológicamente probado. Basado en estudios técnicos realizados.'), Document(metadata={'source': 'Txt_image/Page_18.txt'}, page_content='HASTA EL\\n\\n0%\\n\\nDE\\nDESCUENTO\\n\\n \\n\\nKITx2\\n$20.900\\n\\nKit x2 Avon Universo\\n\\nShampoo 2 en 1 200 mil, precio ml\\n$58,07 + Colonia para Niños 150 ml.\\nPrecio regular $44.800\\n\\n(168392) 2 pts\\n\\n95'), Document(metadata={'source': 'Txt_image/Page_19.txt'}, page_content='¡AL RESCATE!\\n\\ny cuidado de los animales\\ncon sus productos favoritos.'), Document(metadata={'source': 'Txt_image/Page_20.txt'}, page_content='ECTS E\\n\\nEDS\\n\\nSIN LÁGRIMAS a'), Document(metadata={'source': 'Txt_image/Page_21.txt'}, page_content='ye ¡CUIDEMOS\\nNS LOS ANIMALES!\\n\\nro tas\\n\\nuidados diar'), Document(metadata={'source': 'Txt_image/Page_22.txt'}, page_content='y\\nLA AN\\n\\n. Y\\n\\nENT] A?\\n\\n7\\nAR\\nTE\\n\\nR co:\\n\\n1 |\\n\\n! A!\\n\\n7]')]\n",
            "WE GET THE EMBEDDING MODEL\n",
            "VECTORIZANDO\n",
            "VECTORIZADO\n"
          ]
        }
      ],
      "source": [
        "################################################################\n",
        "######## WE GO TO THE VECTORIZED DATABASE ################\n",
        "################################################################\n",
        "OPENAI_API_KEY = \"YOUR KEY\"\n",
        "os.environ['OPENAI_API_KEY'] = OPENAI_API_KEY\n",
        "\n",
        "chroma_db = get_vdb(codificate_pages)"
      ]
    },
    {
      "cell_type": "markdown",
      "metadata": {
        "id": "CN-2U5ADyNA4"
      },
      "source": [
        "## GENERAMOS CHAT PARA OBTENER LAS RESPUESTAS A LAS PREGUNTAS SOLICITADAS"
      ]
    },
    {
      "cell_type": "code",
      "execution_count": 29,
      "metadata": {
        "id": "Sl94xyhom7md"
      },
      "outputs": [],
      "source": [
        "answers=[]"
      ]
    },
    {
      "cell_type": "code",
      "execution_count": 30,
      "metadata": {
        "colab": {
          "base_uri": "https://localhost:8080/"
        },
        "id": "sz5CZwgMre6w",
        "outputId": "bf479171-c515-46cb-affa-75b6acd9a591"
      },
      "outputs": [
        {
          "data": {
            "text/plain": [
              "['Tenemos disponibles las colonias Disney Minnie Mouse y Disney Princesa en presentaciones de 150 ml cada una. La Colonia Minnie Mouse tiene un precio regular de $18.900 y la Colonia Disney Princesa tiene un precio regular de $25.900. Ambas colonias son dermatológicamente probadas y están libres de parabenos.',\n",
              " 'Lo siento, pero no tengo información sobre la religión más practicada en Colombia en el contenido del PDF proporcionado. ¿Tienes alguna otra pregunta relacionada con el archivo?',\n",
              " 'Sí, la Colonia Minnie Mouse de Disney y la Colonia Barbie Spray Desenredante Barbie son productos que han sido dermatológicamente probados, según se indica en el archivo PDF proporcionado.',\n",
              " 'En la última página del PDF se encuentra la oferta de un gel para el cabello Spider-Man de Marvel de 100 g, con un precio regular de $24.990 y un descuento especial a $13.900. Este producto ha sido dermatológicamente probado y está basado en estudios técnicos realizados.']"
            ]
          },
          "execution_count": 30,
          "metadata": {},
          "output_type": "execute_result"
        }
      ],
      "source": [
        "#DEFINING THE CHAT CHAIN:\n",
        "    #----------------------------------------------------------------\n",
        "    #----------------------------------------------------------------\n",
        "template = \"\"\"Eres un chatbot que tiene una conversación con un humano y tu función es responder las preguntas hechas por el humano sobre el contenido del archivo PDF proporcionado.\n",
        "\n",
        "Dado el siguiente contexto y teniendo en cuenta el historial de la conversación, responde a las preguntas hechas por el humano y entrega la información textual que está en el PDF sin cambiar lo que aparece. Si en el contexto proporcionado no está la respuesta a la pregunta hecha por el usuario, no inventes. Además, no debes responder preguntas que no estén relacionadas con el contenido del PDF, como matemáticas, religión, etc.\n",
        "\n",
        "{context}\n",
        "\n",
        "{chat_history}\n",
        "Human: {human_input} ~~~~~\n",
        "Chatbot (Responde de una manera formal):\"\"\"\n",
        "\n",
        "\n",
        "\n",
        "prompt = PromptTemplate(\n",
        "input_variables=[\"chat_history\", \"human_input\", \"context\"], template=template\n",
        ")\n",
        "\n",
        "\n",
        "questions=[\"¿Que colonias tienes de disney\",\n",
        "           \"¿Cual es la religión más practican en colombia?\",\n",
        "           \"¿Hay alguna colonia o producto que sea dermatológicamente probado?\", \n",
        "           \"Que venden en la última página del pdf\"]\n",
        "\n",
        "for i,query in enumerate(questions):\n",
        "  memory = ConversationBufferMemory(memory_key=\"chat_history\", input_key=\"human_input\")\n",
        "  chain = load_qa_chain(\n",
        "    ChatOpenAI(model_name=\"gpt-3.5-turbo\",temperature=0), chain_type=\"stuff\", memory=memory, prompt=prompt\n",
        "    )\n",
        "\n",
        "  docs=chroma_db.similarity_search(query,k=6)\n",
        "  response=chain({\"input_documents\": docs, \"human_input\": query, \"chat_history\":memory}, return_only_outputs=False)['output_text'] #AI answer\n",
        "  answers.append(response)\n",
        "\n",
        "answers"
      ]
    }
  ],
  "metadata": {
    "accelerator": "GPU",
    "colab": {
      "gpuType": "T4",
      "provenance": []
    },
    "kernelspec": {
      "display_name": "Python 3",
      "name": "python3"
    },
    "language_info": {
      "codemirror_mode": {
        "name": "ipython",
        "version": 3
      },
      "file_extension": ".py",
      "mimetype": "text/x-python",
      "name": "python",
      "nbconvert_exporter": "python",
      "pygments_lexer": "ipython3",
      "version": "3.12.1"
    }
  },
  "nbformat": 4,
  "nbformat_minor": 0
}
